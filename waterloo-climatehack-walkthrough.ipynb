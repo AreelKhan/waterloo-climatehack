{
 "cells": [
  {
   "cell_type": "markdown",
   "id": "8d9aba3d",
   "metadata": {},
   "source": [
    "# Hello!\n",
    "This is a walkthrough to train the University of Waterloo's submission model.\n",
    "\n",
    "To find all our experiments and code, see our original [repo](https://github.com/trevor-yu-087/climatehack.ai-2024), but beware, it is not documented, or well organized."
   ]
  },
  {
   "cell_type": "markdown",
   "id": "814b4294",
   "metadata": {
    "vscode": {
     "languageId": "plaintext"
    }
   },
   "source": [
    "# Environment set up\n",
    "\n",
    "We use docker to package dependencies. If you are using VScode or a JetBrains IDE, the devcontainers extension should be able to use the .devcontainer directory to build the docker image and use it as a development environment.\n",
    "\n",
    "If you do not want to use docker, you can (hopefully) get set up by running:\n",
    "\n",
    "- `pip install -r local-requirements.txt`\n",
    "- `conda install cartopy`\n",
    "- `pip install torch torchvision torchaudio --index-url https://download.pytorch.org/whl/cu121`\n",
    "\n",
    "A machine with a CUDA enabled GPU is required."
   ]
  },
  {
   "cell_type": "markdown",
   "id": "64b545c0",
   "metadata": {
    "vscode": {
     "languageId": "plaintext"
    }
   },
   "source": [
    "# Download data\n",
    "Our model used pv, hrv and weather data.\n",
    "\n",
    "For this example we'll only be downloading a few months of data.\n",
    "\n",
    "Note that you have to download the [indices.json](https://github.com/climatehackai/getting-started-2023/blob/main/indices.json) file and place it in the same directory as the data that gets downloaded below."
   ]
  },
  {
   "cell_type": "code",
   "execution_count": 1,
   "id": "8d0d73a3",
   "metadata": {},
   "outputs": [
    {
     "name": "stderr",
     "output_type": "stream",
     "text": [
      "/usr/local/lib/python3.10/dist-packages/huggingface_hub/file_download.py:1194: UserWarning: `local_dir_use_symlinks` parameter is deprecated and will be ignored. The process to download files to a local folder has been updated and do not rely on symlinks anymore. You only need to pass a destination folder as`local_dir`.\n",
      "For more details, check out https://huggingface.co/docs/huggingface_hub/main/en/guides/download#download-files-to-local-folder.\n",
      "  warnings.warn(\n"
     ]
    },
    {
     "data": {
      "application/vnd.jupyter.widget-view+json": {
       "model_id": "01bd4bb860f64b4ea985322e3c60eaa5",
       "version_major": 2,
       "version_minor": 0
      },
      "text/plain": [
       "Fetching 33 files:   0%|          | 0/33 [00:00<?, ?it/s]"
      ]
     },
     "metadata": {},
     "output_type": "display_data"
    },
    {
     "data": {
      "text/plain": [
       "'/workspaces/waterloo-climatehack/data'"
      ]
     },
     "execution_count": 1,
     "metadata": {},
     "output_type": "execute_result"
    }
   ],
   "source": [
    "import huggingface_hub\n",
    "from os import makedirs\n",
    "\n",
    "datadir = \"/workspaces/waterloo-climatehack/data\" # change this\n",
    "makedirs(datadir, exist_ok=True)\n",
    "\n",
    "huggingface_hub.snapshot_download(\n",
    "    repo_id=\"climatehackai/climatehackai-2023\", \n",
    "    local_dir=datadir, \n",
    "    cache_dir=datadir + '/cache',\n",
    "    local_dir_use_symlinks=False, \n",
    "    repo_type=\"dataset\",\n",
    "    ignore_patterns=[\"aerosols/*\", \"satellite-nonhrv/*\"],\n",
    "    allow_patterns=[\"*10.zarr.zip\", \"*11.zarr.zip\", \"*.parquet\", \"*metadata.csv\"]\n",
    ")"
   ]
  },
  {
   "cell_type": "markdown",
   "id": "614fa250",
   "metadata": {},
   "source": [
    "# Generating PV Site Features\n",
    "We generate site specific features (such as the site's max and average output during each month).\n",
    "\n",
    "For this example we only do October and November of each year."
   ]
  },
  {
   "cell_type": "code",
   "execution_count": 2,
   "id": "9b384e4a",
   "metadata": {},
   "outputs": [],
   "source": [
    "import pandas as pd\n",
    "import numpy as np"
   ]
  },
  {
   "cell_type": "code",
   "execution_count": 3,
   "id": "15636434",
   "metadata": {},
   "outputs": [
    {
     "name": "stdout",
     "output_type": "stream",
     "text": [
      "2020,january\n",
      "2020,february\n",
      "2020,march\n",
      "2020,april\n",
      "2020,may\n",
      "2020,june\n",
      "2020,july\n",
      "2020,august\n",
      "2020,september\n",
      "2020,october\n",
      "2020,november\n",
      "2020,december\n",
      "2021,january\n",
      "2021,february\n",
      "2021,march\n",
      "2021,april\n",
      "2021,may\n",
      "2021,june\n",
      "2021,july\n",
      "2021,august\n",
      "2021,september\n",
      "2021,october\n",
      "2021,november\n",
      "2021,december\n"
     ]
    }
   ],
   "source": [
    "years = [2020, 2021]\n",
    "months = ['january', 'february', 'march', 'april', 'may', 'june', 'july', 'august', 'september', 'october', 'november', 'december']\n",
    "\n",
    "for year in years:\n",
    "    for i, month_name in enumerate(months):\n",
    "        print(f'{year},{month_name}')\n",
    "        month = pd.read_parquet(datadir + f'/pv/{year}/{i+1}.parquet').drop(['generation_wh'], axis=1)\n",
    "        month = month.reorder_levels(['ss_id', 'timestamp'])\n",
    "\n",
    "        site_ids = month.index.get_level_values(0).unique().values\n",
    "\n",
    "        monthly_avg, monthly_max, monthly_average_max = [], [], []\n",
    "\n",
    "        for site in site_ids:\n",
    "            a = month.loc[site].between_time('5:00', '22:00')\n",
    "            monthly_max.append(a.power.max())\n",
    "            monthly_avg.append(a.power.mean())\n",
    "            monthly_average_max.append(a.groupby([a.index.hour, a.index.minute]).power.mean().max())\n",
    "\n",
    "        frame = pd.DataFrame(np.array([monthly_avg, monthly_max, monthly_average_max]).T, index=site_ids)\n",
    "        frame.columns = [f'{month_name}_{year}_avg', f'{month_name}_{year}_max', f'{month_name}_{year}_average_max']\n",
    "\n",
    "        if i == 0 and year == 2020:\n",
    "            master_frame = frame\n",
    "        else:\n",
    "            master_frame = master_frame.join(frame)"
   ]
  },
  {
   "cell_type": "code",
   "execution_count": 5,
   "id": "158ddfce",
   "metadata": {},
   "outputs": [
    {
     "data": {
      "text/html": [
       "<div>\n",
       "<style scoped>\n",
       "    .dataframe tbody tr th:only-of-type {\n",
       "        vertical-align: middle;\n",
       "    }\n",
       "\n",
       "    .dataframe tbody tr th {\n",
       "        vertical-align: top;\n",
       "    }\n",
       "\n",
       "    .dataframe thead th {\n",
       "        text-align: right;\n",
       "    }\n",
       "</style>\n",
       "<table border=\"1\" class=\"dataframe\">\n",
       "  <thead>\n",
       "    <tr style=\"text-align: right;\">\n",
       "      <th></th>\n",
       "      <th>january_2020_avg</th>\n",
       "      <th>january_2020_max</th>\n",
       "      <th>january_2020_average_max</th>\n",
       "      <th>february_2020_avg</th>\n",
       "      <th>february_2020_max</th>\n",
       "      <th>february_2020_average_max</th>\n",
       "      <th>march_2020_avg</th>\n",
       "      <th>march_2020_max</th>\n",
       "      <th>march_2020_average_max</th>\n",
       "      <th>april_2020_avg</th>\n",
       "      <th>...</th>\n",
       "      <th>september_2021_average_max</th>\n",
       "      <th>october_2021_avg</th>\n",
       "      <th>october_2021_max</th>\n",
       "      <th>october_2021_average_max</th>\n",
       "      <th>november_2021_avg</th>\n",
       "      <th>november_2021_max</th>\n",
       "      <th>november_2021_average_max</th>\n",
       "      <th>december_2021_avg</th>\n",
       "      <th>december_2021_max</th>\n",
       "      <th>december_2021_average_max</th>\n",
       "    </tr>\n",
       "  </thead>\n",
       "  <tbody>\n",
       "    <tr>\n",
       "      <th>2607</th>\n",
       "      <td>0.047627</td>\n",
       "      <td>0.726833</td>\n",
       "      <td>0.256715</td>\n",
       "      <td>0.096090</td>\n",
       "      <td>0.879429</td>\n",
       "      <td>0.341195</td>\n",
       "      <td>0.194270</td>\n",
       "      <td>0.978294</td>\n",
       "      <td>0.531157</td>\n",
       "      <td>0.251373</td>\n",
       "      <td>...</td>\n",
       "      <td>0.509674</td>\n",
       "      <td>0.127118</td>\n",
       "      <td>0.912645</td>\n",
       "      <td>0.393029</td>\n",
       "      <td>0.101636</td>\n",
       "      <td>0.807710</td>\n",
       "      <td>0.519580</td>\n",
       "      <td>NaN</td>\n",
       "      <td>NaN</td>\n",
       "      <td>NaN</td>\n",
       "    </tr>\n",
       "    <tr>\n",
       "      <th>2626</th>\n",
       "      <td>0.020631</td>\n",
       "      <td>0.248641</td>\n",
       "      <td>0.100403</td>\n",
       "      <td>NaN</td>\n",
       "      <td>NaN</td>\n",
       "      <td>NaN</td>\n",
       "      <td>0.168927</td>\n",
       "      <td>0.813030</td>\n",
       "      <td>0.472241</td>\n",
       "      <td>0.236701</td>\n",
       "      <td>...</td>\n",
       "      <td>0.348340</td>\n",
       "      <td>0.062498</td>\n",
       "      <td>0.663760</td>\n",
       "      <td>0.221380</td>\n",
       "      <td>0.051184</td>\n",
       "      <td>0.498327</td>\n",
       "      <td>0.254845</td>\n",
       "      <td>NaN</td>\n",
       "      <td>NaN</td>\n",
       "      <td>NaN</td>\n",
       "    </tr>\n",
       "    <tr>\n",
       "      <th>2631</th>\n",
       "      <td>0.018734</td>\n",
       "      <td>0.203612</td>\n",
       "      <td>0.074540</td>\n",
       "      <td>0.046694</td>\n",
       "      <td>0.415719</td>\n",
       "      <td>0.155116</td>\n",
       "      <td>0.108182</td>\n",
       "      <td>0.623148</td>\n",
       "      <td>0.287396</td>\n",
       "      <td>0.182052</td>\n",
       "      <td>...</td>\n",
       "      <td>0.276162</td>\n",
       "      <td>0.056889</td>\n",
       "      <td>0.494889</td>\n",
       "      <td>0.166480</td>\n",
       "      <td>0.043561</td>\n",
       "      <td>0.296281</td>\n",
       "      <td>0.164227</td>\n",
       "      <td>NaN</td>\n",
       "      <td>NaN</td>\n",
       "      <td>NaN</td>\n",
       "    </tr>\n",
       "    <tr>\n",
       "      <th>2657</th>\n",
       "      <td>0.073219</td>\n",
       "      <td>0.792990</td>\n",
       "      <td>0.262686</td>\n",
       "      <td>0.120295</td>\n",
       "      <td>0.913380</td>\n",
       "      <td>0.389640</td>\n",
       "      <td>0.198679</td>\n",
       "      <td>0.937380</td>\n",
       "      <td>0.519910</td>\n",
       "      <td>0.277676</td>\n",
       "      <td>...</td>\n",
       "      <td>0.479146</td>\n",
       "      <td>0.140347</td>\n",
       "      <td>0.908016</td>\n",
       "      <td>0.432959</td>\n",
       "      <td>0.150941</td>\n",
       "      <td>0.833607</td>\n",
       "      <td>0.511419</td>\n",
       "      <td>NaN</td>\n",
       "      <td>NaN</td>\n",
       "      <td>NaN</td>\n",
       "    </tr>\n",
       "    <tr>\n",
       "      <th>2660</th>\n",
       "      <td>0.000000</td>\n",
       "      <td>0.000000</td>\n",
       "      <td>0.000000</td>\n",
       "      <td>0.000000</td>\n",
       "      <td>0.000000</td>\n",
       "      <td>0.000000</td>\n",
       "      <td>0.000000</td>\n",
       "      <td>0.000000</td>\n",
       "      <td>0.000000</td>\n",
       "      <td>0.000000</td>\n",
       "      <td>...</td>\n",
       "      <td>0.316739</td>\n",
       "      <td>0.053756</td>\n",
       "      <td>0.508482</td>\n",
       "      <td>0.191908</td>\n",
       "      <td>0.050862</td>\n",
       "      <td>0.313617</td>\n",
       "      <td>0.208087</td>\n",
       "      <td>NaN</td>\n",
       "      <td>NaN</td>\n",
       "      <td>NaN</td>\n",
       "    </tr>\n",
       "  </tbody>\n",
       "</table>\n",
       "<p>5 rows × 72 columns</p>\n",
       "</div>"
      ],
      "text/plain": [
       "      january_2020_avg  january_2020_max  january_2020_average_max  \\\n",
       "2607          0.047627          0.726833                  0.256715   \n",
       "2626          0.020631          0.248641                  0.100403   \n",
       "2631          0.018734          0.203612                  0.074540   \n",
       "2657          0.073219          0.792990                  0.262686   \n",
       "2660          0.000000          0.000000                  0.000000   \n",
       "\n",
       "      february_2020_avg  february_2020_max  february_2020_average_max  \\\n",
       "2607           0.096090           0.879429                   0.341195   \n",
       "2626                NaN                NaN                        NaN   \n",
       "2631           0.046694           0.415719                   0.155116   \n",
       "2657           0.120295           0.913380                   0.389640   \n",
       "2660           0.000000           0.000000                   0.000000   \n",
       "\n",
       "      march_2020_avg  march_2020_max  march_2020_average_max  april_2020_avg  \\\n",
       "2607        0.194270        0.978294                0.531157        0.251373   \n",
       "2626        0.168927        0.813030                0.472241        0.236701   \n",
       "2631        0.108182        0.623148                0.287396        0.182052   \n",
       "2657        0.198679        0.937380                0.519910        0.277676   \n",
       "2660        0.000000        0.000000                0.000000        0.000000   \n",
       "\n",
       "      ...  september_2021_average_max  october_2021_avg  october_2021_max  \\\n",
       "2607  ...                    0.509674          0.127118          0.912645   \n",
       "2626  ...                    0.348340          0.062498          0.663760   \n",
       "2631  ...                    0.276162          0.056889          0.494889   \n",
       "2657  ...                    0.479146          0.140347          0.908016   \n",
       "2660  ...                    0.316739          0.053756          0.508482   \n",
       "\n",
       "      october_2021_average_max  november_2021_avg  november_2021_max  \\\n",
       "2607                  0.393029           0.101636           0.807710   \n",
       "2626                  0.221380           0.051184           0.498327   \n",
       "2631                  0.166480           0.043561           0.296281   \n",
       "2657                  0.432959           0.150941           0.833607   \n",
       "2660                  0.191908           0.050862           0.313617   \n",
       "\n",
       "      november_2021_average_max  december_2021_avg  december_2021_max  \\\n",
       "2607                   0.519580                NaN                NaN   \n",
       "2626                   0.254845                NaN                NaN   \n",
       "2631                   0.164227                NaN                NaN   \n",
       "2657                   0.511419                NaN                NaN   \n",
       "2660                   0.208087                NaN                NaN   \n",
       "\n",
       "      december_2021_average_max  \n",
       "2607                        NaN  \n",
       "2626                        NaN  \n",
       "2631                        NaN  \n",
       "2657                        NaN  \n",
       "2660                        NaN  \n",
       "\n",
       "[5 rows x 72 columns]"
      ]
     },
     "execution_count": 5,
     "metadata": {},
     "output_type": "execute_result"
    }
   ],
   "source": [
    "master_frame.head()"
   ]
  },
  {
   "cell_type": "code",
   "execution_count": 6,
   "id": "ad987eb4",
   "metadata": {},
   "outputs": [],
   "source": [
    "master_frame.to_pickle(datadir +'/pv_site_features.pkl')"
   ]
  },
  {
   "cell_type": "markdown",
   "id": "986ee367",
   "metadata": {},
   "source": [
    "# Data Loading\n",
    "Now let's run our dataset class to validate that our data is set up correctly."
   ]
  },
  {
   "cell_type": "code",
   "execution_count": 7,
   "id": "1ca49dc3",
   "metadata": {},
   "outputs": [],
   "source": [
    "from dataset import get_datasets\n",
    "import yaml"
   ]
  },
  {
   "cell_type": "code",
   "execution_count": 8,
   "id": "31ddde5a",
   "metadata": {},
   "outputs": [],
   "source": [
    "# yaml file that is used to configure training runs\n",
    "CONFIG_FILE_NAME = \"train.yaml\"\n",
    "\n",
    "with open(CONFIG_FILE_NAME) as file:\n",
    "    config = yaml.safe_load(file)"
   ]
  },
  {
   "cell_type": "code",
   "execution_count": 9,
   "id": "336c0e24",
   "metadata": {},
   "outputs": [
    {
     "name": "stdout",
     "output_type": "stream",
     "text": [
      "Loading dataset checking checkpoint\n"
     ]
    },
    {
     "ename": "KeyError",
     "evalue": "10",
     "output_type": "error",
     "traceback": [
      "\u001b[0;31m---------------------------------------------------------------------------\u001b[0m",
      "\u001b[0;31mKeyError\u001b[0m                                  Traceback (most recent call last)",
      "File \u001b[0;32m/usr/local/lib/python3.10/dist-packages/pandas/core/indexes/base.py:3790\u001b[0m, in \u001b[0;36mIndex.get_loc\u001b[0;34m(self, key)\u001b[0m\n\u001b[1;32m   3789\u001b[0m \u001b[38;5;28;01mtry\u001b[39;00m:\n\u001b[0;32m-> 3790\u001b[0m     \u001b[38;5;28;01mreturn\u001b[39;00m \u001b[38;5;28;43mself\u001b[39;49m\u001b[38;5;241;43m.\u001b[39;49m\u001b[43m_engine\u001b[49m\u001b[38;5;241;43m.\u001b[39;49m\u001b[43mget_loc\u001b[49m\u001b[43m(\u001b[49m\u001b[43mcasted_key\u001b[49m\u001b[43m)\u001b[49m\n\u001b[1;32m   3791\u001b[0m \u001b[38;5;28;01mexcept\u001b[39;00m \u001b[38;5;167;01mKeyError\u001b[39;00m \u001b[38;5;28;01mas\u001b[39;00m err:\n",
      "File \u001b[0;32mindex.pyx:152\u001b[0m, in \u001b[0;36mpandas._libs.index.IndexEngine.get_loc\u001b[0;34m()\u001b[0m\n",
      "File \u001b[0;32mindex.pyx:181\u001b[0m, in \u001b[0;36mpandas._libs.index.IndexEngine.get_loc\u001b[0;34m()\u001b[0m\n",
      "File \u001b[0;32mpandas/_libs/hashtable_class_helper.pxi:7080\u001b[0m, in \u001b[0;36mpandas._libs.hashtable.PyObjectHashTable.get_item\u001b[0;34m()\u001b[0m\n",
      "File \u001b[0;32mpandas/_libs/hashtable_class_helper.pxi:7088\u001b[0m, in \u001b[0;36mpandas._libs.hashtable.PyObjectHashTable.get_item\u001b[0;34m()\u001b[0m\n",
      "\u001b[0;31mKeyError\u001b[0m: 10",
      "\nThe above exception was the direct cause of the following exception:\n",
      "\u001b[0;31mKeyError\u001b[0m                                  Traceback (most recent call last)",
      "Cell \u001b[0;32mIn[9], line 1\u001b[0m\n\u001b[0;32m----> 1\u001b[0m train_ds, test_ds \u001b[38;5;241m=\u001b[39m get_datasets(\n\u001b[1;32m      2\u001b[0m     config[\u001b[38;5;124m\"\u001b[39m\u001b[38;5;124mdata_path\u001b[39m\u001b[38;5;124m\"\u001b[39m],\n\u001b[1;32m      3\u001b[0m     (config[\u001b[38;5;124m\"\u001b[39m\u001b[38;5;124mstart_date\u001b[39m\u001b[38;5;124m\"\u001b[39m], config[\u001b[38;5;124m\"\u001b[39m\u001b[38;5;124mend_date\u001b[39m\u001b[38;5;124m\"\u001b[39m]),\n\u001b[1;32m      4\u001b[0m     batch_size\u001b[38;5;241m=\u001b[39mconfig[\u001b[38;5;124m\"\u001b[39m\u001b[38;5;124mbatch_size\u001b[39m\u001b[38;5;124m\"\u001b[39m],\n\u001b[1;32m      5\u001b[0m     hrv\u001b[38;5;241m=\u001b[39m\u001b[38;5;124m\"\u001b[39m\u001b[38;5;124mhrv\u001b[39m\u001b[38;5;124m\"\u001b[39m \u001b[38;5;129;01min\u001b[39;00m config[\u001b[38;5;124m\"\u001b[39m\u001b[38;5;124mmodalities\u001b[39m\u001b[38;5;124m\"\u001b[39m],\n\u001b[1;32m      6\u001b[0m     weather\u001b[38;5;241m=\u001b[39m\u001b[38;5;124m\"\u001b[39m\u001b[38;5;124mweather\u001b[39m\u001b[38;5;124m\"\u001b[39m \u001b[38;5;129;01min\u001b[39;00m config[\u001b[38;5;124m\"\u001b[39m\u001b[38;5;124mmodalities\u001b[39m\u001b[38;5;124m\"\u001b[39m],\n\u001b[1;32m      7\u001b[0m     metadata\u001b[38;5;241m=\u001b[39m\u001b[38;5;124m\"\u001b[39m\u001b[38;5;124mmetadata\u001b[39m\u001b[38;5;124m\"\u001b[39m \u001b[38;5;129;01min\u001b[39;00m config[\u001b[38;5;124m\"\u001b[39m\u001b[38;5;124mmodalities\u001b[39m\u001b[38;5;124m\"\u001b[39m],\n\u001b[1;32m      8\u001b[0m     seed\u001b[38;5;241m=\u001b[39mconfig[\u001b[38;5;124m\"\u001b[39m\u001b[38;5;124mseed\u001b[39m\u001b[38;5;124m\"\u001b[39m],\n\u001b[1;32m      9\u001b[0m     pv_features_file\u001b[38;5;241m=\u001b[39mconfig[\u001b[38;5;124m\"\u001b[39m\u001b[38;5;124mpv_features_file\u001b[39m\u001b[38;5;124m\"\u001b[39m],\n\u001b[1;32m     10\u001b[0m     test_size\u001b[38;5;241m=\u001b[39mconfig[\u001b[38;5;124m\"\u001b[39m\u001b[38;5;124mtest_size\u001b[39m\u001b[38;5;124m\"\u001b[39m],\n\u001b[1;32m     11\u001b[0m     hrv_crop\u001b[38;5;241m=\u001b[39mconfig[\u001b[38;5;124m\"\u001b[39m\u001b[38;5;124mhrv_crop\u001b[39m\u001b[38;5;124m\"\u001b[39m],\n\u001b[1;32m     12\u001b[0m     weather_crop\u001b[38;5;241m=\u001b[39mconfig[\u001b[38;5;124m\"\u001b[39m\u001b[38;5;124mweather_crop\u001b[39m\u001b[38;5;124m\"\u001b[39m],\n\u001b[1;32m     13\u001b[0m     zipped\u001b[38;5;241m=\u001b[39mconfig[\u001b[38;5;124m\"\u001b[39m\u001b[38;5;124mzipped\u001b[39m\u001b[38;5;124m\"\u001b[39m],\n\u001b[1;32m     14\u001b[0m     offset_start_time\u001b[38;5;241m=\u001b[39mconfig[\u001b[38;5;124m\"\u001b[39m\u001b[38;5;124moffset_start_time\u001b[39m\u001b[38;5;124m\"\u001b[39m]\n\u001b[1;32m     15\u001b[0m )\n",
      "File \u001b[0;32m/workspaces/waterloo-climatehack/dataset.py:292\u001b[0m, in \u001b[0;36mClimatehackDataset.__iter__\u001b[0;34m(self)\u001b[0m\n\u001b[1;32m    290\u001b[0m     np\u001b[38;5;241m.\u001b[39mrandom\u001b[38;5;241m.\u001b[39mshuffle(\u001b[38;5;28mself\u001b[39m\u001b[38;5;241m.\u001b[39minitial_times)\n\u001b[1;32m    291\u001b[0m \u001b[38;5;28;01mfor\u001b[39;00m i \u001b[38;5;129;01min\u001b[39;00m \u001b[38;5;28mrange\u001b[39m(\u001b[38;5;28mlen\u001b[39m(\u001b[38;5;28mself\u001b[39m)):\n\u001b[0;32m--> 292\u001b[0m     \u001b[38;5;28;01myield\u001b[39;00m \u001b[38;5;28;43mself\u001b[39;49m\u001b[43m[\u001b[49m\u001b[43mi\u001b[49m\u001b[43m]\u001b[49m\n",
      "File \u001b[0;32m/workspaces/waterloo-climatehack/dataset.py:131\u001b[0m, in \u001b[0;36mClimatehackDataset.__getitem__\u001b[0;34m(self, index)\u001b[0m\n\u001b[1;32m    128\u001b[0m     t0 \u001b[38;5;241m=\u001b[39m t0 \u001b[38;5;241m+\u001b[39m mins\n\u001b[1;32m    130\u001b[0m \u001b[38;5;66;03m# Read data into memory\u001b[39;00m\n\u001b[0;32m--> 131\u001b[0m data \u001b[38;5;241m=\u001b[39m \u001b[38;5;28;43mself\u001b[39;49m\u001b[38;5;241;43m.\u001b[39;49m\u001b[43m_get_features\u001b[49m\u001b[43m(\u001b[49m\u001b[43mt0\u001b[49m\u001b[43m)\u001b[49m\n\u001b[1;32m    132\u001b[0m \u001b[38;5;66;03m# Randomly select sites based on batch size\u001b[39;00m\n\u001b[1;32m    133\u001b[0m all_sites \u001b[38;5;241m=\u001b[39m \u001b[38;5;28mset\u001b[39m(\u001b[38;5;28mself\u001b[39m\u001b[38;5;241m.\u001b[39mmetadata\u001b[38;5;241m.\u001b[39mindex)\n",
      "File \u001b[0;32m/workspaces/waterloo-climatehack/dataset.py:275\u001b[0m, in \u001b[0;36mClimatehackDataset._get_features\u001b[0;34m(self, t0)\u001b[0m\n\u001b[1;32m    273\u001b[0m     data_slice[\u001b[38;5;124m\"\u001b[39m\u001b[38;5;124mmetadata\u001b[39m\u001b[38;5;124m\"\u001b[39m] \u001b[38;5;241m=\u001b[39m \u001b[38;5;28mself\u001b[39m\u001b[38;5;241m.\u001b[39mmetadata[other_metadata]\u001b[38;5;241m.\u001b[39mastype(\u001b[38;5;124m\"\u001b[39m\u001b[38;5;124mfloat32\u001b[39m\u001b[38;5;124m\"\u001b[39m)\n\u001b[1;32m    274\u001b[0m \u001b[38;5;28;01mif\u001b[39;00m \u001b[38;5;28mself\u001b[39m\u001b[38;5;241m.\u001b[39mfeatures\u001b[38;5;241m.\u001b[39mget(\u001b[38;5;124m\"\u001b[39m\u001b[38;5;124mpv_features\u001b[39m\u001b[38;5;124m\"\u001b[39m, \u001b[38;5;28;01mNone\u001b[39;00m):\n\u001b[0;32m--> 275\u001b[0m     data_slice[\u001b[38;5;124m\"\u001b[39m\u001b[38;5;124mpv_features\u001b[39m\u001b[38;5;124m\"\u001b[39m] \u001b[38;5;241m=\u001b[39m \u001b[38;5;28;43mself\u001b[39;49m\u001b[38;5;241;43m.\u001b[39;49m\u001b[43mpv_features\u001b[49m\u001b[43m[\u001b[49m\u001b[43mt0\u001b[49m\u001b[38;5;241;43m.\u001b[39;49m\u001b[43mmonth\u001b[49m\u001b[43m]\u001b[49m\n\u001b[1;32m    276\u001b[0m \u001b[38;5;28;01mreturn\u001b[39;00m data_slice\n",
      "File \u001b[0;32m/usr/local/lib/python3.10/dist-packages/pandas/core/frame.py:3893\u001b[0m, in \u001b[0;36mDataFrame.__getitem__\u001b[0;34m(self, key)\u001b[0m\n\u001b[1;32m   3891\u001b[0m \u001b[38;5;28;01mif\u001b[39;00m \u001b[38;5;28mself\u001b[39m\u001b[38;5;241m.\u001b[39mcolumns\u001b[38;5;241m.\u001b[39mnlevels \u001b[38;5;241m>\u001b[39m \u001b[38;5;241m1\u001b[39m:\n\u001b[1;32m   3892\u001b[0m     \u001b[38;5;28;01mreturn\u001b[39;00m \u001b[38;5;28mself\u001b[39m\u001b[38;5;241m.\u001b[39m_getitem_multilevel(key)\n\u001b[0;32m-> 3893\u001b[0m indexer \u001b[38;5;241m=\u001b[39m \u001b[38;5;28;43mself\u001b[39;49m\u001b[38;5;241;43m.\u001b[39;49m\u001b[43mcolumns\u001b[49m\u001b[38;5;241;43m.\u001b[39;49m\u001b[43mget_loc\u001b[49m\u001b[43m(\u001b[49m\u001b[43mkey\u001b[49m\u001b[43m)\u001b[49m\n\u001b[1;32m   3894\u001b[0m \u001b[38;5;28;01mif\u001b[39;00m is_integer(indexer):\n\u001b[1;32m   3895\u001b[0m     indexer \u001b[38;5;241m=\u001b[39m [indexer]\n",
      "File \u001b[0;32m/usr/local/lib/python3.10/dist-packages/pandas/core/indexes/base.py:3797\u001b[0m, in \u001b[0;36mIndex.get_loc\u001b[0;34m(self, key)\u001b[0m\n\u001b[1;32m   3792\u001b[0m     \u001b[38;5;28;01mif\u001b[39;00m \u001b[38;5;28misinstance\u001b[39m(casted_key, \u001b[38;5;28mslice\u001b[39m) \u001b[38;5;129;01mor\u001b[39;00m (\n\u001b[1;32m   3793\u001b[0m         \u001b[38;5;28misinstance\u001b[39m(casted_key, abc\u001b[38;5;241m.\u001b[39mIterable)\n\u001b[1;32m   3794\u001b[0m         \u001b[38;5;129;01mand\u001b[39;00m \u001b[38;5;28many\u001b[39m(\u001b[38;5;28misinstance\u001b[39m(x, \u001b[38;5;28mslice\u001b[39m) \u001b[38;5;28;01mfor\u001b[39;00m x \u001b[38;5;129;01min\u001b[39;00m casted_key)\n\u001b[1;32m   3795\u001b[0m     ):\n\u001b[1;32m   3796\u001b[0m         \u001b[38;5;28;01mraise\u001b[39;00m InvalidIndexError(key)\n\u001b[0;32m-> 3797\u001b[0m     \u001b[38;5;28;01mraise\u001b[39;00m \u001b[38;5;167;01mKeyError\u001b[39;00m(key) \u001b[38;5;28;01mfrom\u001b[39;00m \u001b[38;5;21;01merr\u001b[39;00m\n\u001b[1;32m   3798\u001b[0m \u001b[38;5;28;01mexcept\u001b[39;00m \u001b[38;5;167;01mTypeError\u001b[39;00m:\n\u001b[1;32m   3799\u001b[0m     \u001b[38;5;66;03m# If we have a listlike key, _check_indexing_error will raise\u001b[39;00m\n\u001b[1;32m   3800\u001b[0m     \u001b[38;5;66;03m#  InvalidIndexError. Otherwise we fall through and re-raise\u001b[39;00m\n\u001b[1;32m   3801\u001b[0m     \u001b[38;5;66;03m#  the TypeError.\u001b[39;00m\n\u001b[1;32m   3802\u001b[0m     \u001b[38;5;28mself\u001b[39m\u001b[38;5;241m.\u001b[39m_check_indexing_error(key)\n",
      "\u001b[0;31mKeyError\u001b[0m: 10"
     ]
    }
   ],
   "source": [
    "train_ds, test_ds = get_datasets(\n",
    "    config[\"data_path\"],\n",
    "    (config[\"start_date\"], config[\"end_date\"]),\n",
    "    batch_size=config[\"batch_size\"],\n",
    "    hrv=\"hrv\" in config[\"modalities\"],\n",
    "    weather=\"weather\" in config[\"modalities\"],\n",
    "    metadata=\"metadata\" in config[\"modalities\"],\n",
    "    seed=config[\"seed\"],\n",
    "    pv_features_file=config[\"pv_features_file\"],\n",
    "    test_size=config[\"test_size\"],\n",
    "    hrv_crop=config[\"hrv_crop\"],\n",
    "    weather_crop=config[\"weather_crop\"],\n",
    "    zipped=config[\"zipped\"],\n",
    "    offset_start_time=config[\"offset_start_time\"]\n",
    ")"
   ]
  },
  {
   "cell_type": "code",
   "execution_count": 4,
   "id": "4a7fd5b6",
   "metadata": {},
   "outputs": [
    {
     "ename": "NameError",
     "evalue": "name 'main_frame' is not defined",
     "output_type": "error",
     "traceback": [
      "\u001b[0;31m---------------------------------------------------------------------------\u001b[0m",
      "\u001b[0;31mNameError\u001b[0m                                 Traceback (most recent call last)",
      "Cell \u001b[0;32mIn[4], line 1\u001b[0m\n\u001b[0;32m----> 1\u001b[0m \u001b[43mmain_frame\u001b[49m\n",
      "\u001b[0;31mNameError\u001b[0m: name 'main_frame' is not defined"
     ]
    }
   ],
   "source": [
    "main_frame"
   ]
  },
  {
   "cell_type": "code",
   "execution_count": null,
   "id": "6c754a1d",
   "metadata": {},
   "outputs": [],
   "source": []
  }
 ],
 "metadata": {
  "kernelspec": {
   "display_name": "Python 3",
   "language": "python",
   "name": "python3"
  },
  "language_info": {
   "codemirror_mode": {
    "name": "ipython",
    "version": 3
   },
   "file_extension": ".py",
   "mimetype": "text/x-python",
   "name": "python",
   "nbconvert_exporter": "python",
   "pygments_lexer": "ipython3",
   "version": "3.10.14"
  }
 },
 "nbformat": 4,
 "nbformat_minor": 5
}
